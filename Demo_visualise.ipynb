{
 "cells": [
  {
   "cell_type": "code",
   "execution_count": 1,
   "metadata": {},
   "outputs": [],
   "source": [
    "import yaml\n",
    "import os\n",
    "from os.path import join\n",
    "import matplotlib.pyplot as plt;\n",
    "import numpy as np;\n",
    "from data_bank import data_selector\n",
    "import tensorflow as tf"
   ]
  },
  {
   "cell_type": "code",
   "execution_count": 3,
   "metadata": {
    "scrolled": true
   },
   "outputs": [
    {
     "name": "stdout",
     "output_type": "stream",
     "text": [
      " Existing data\n",
      "\n",
      "Images : data/shades_data/t0_images\n",
      "Labels : data/shades_data/t0_labels\n",
      "Difference: data/shades_data/t0_diff\n",
      "Model Number: 1.000000\n",
      "\n",
      "\n"
     ]
    },
    {
     "ename": "FileNotFoundError",
     "evalue": "[Errno 2] No such file or directory: 'data/shades_data/t0_images1.npy'",
     "output_type": "error",
     "traceback": [
      "\u001b[0;31m---------------------------------------------------------------------------\u001b[0m",
      "\u001b[0;31mFileNotFoundError\u001b[0m                         Traceback (most recent call last)",
      "Cell \u001b[0;32mIn[3], line 32\u001b[0m\n\u001b[1;32m     30\u001b[0m data_loader \u001b[38;5;241m=\u001b[39m data_selector(data_name, data_arguments)\n\u001b[1;32m     31\u001b[0m \u001b[38;5;28mprint\u001b[39m(data_loader)\n\u001b[0;32m---> 32\u001b[0m data_images, data_labels, data_diff \u001b[38;5;241m=\u001b[39m \u001b[43mdata_loader\u001b[49m\u001b[38;5;241;43m.\u001b[39;49m\u001b[43mload_data\u001b[49m\u001b[43m(\u001b[49m\u001b[43m)\u001b[49m;\n\u001b[1;32m     33\u001b[0m data_images \u001b[38;5;241m=\u001b[39m np\u001b[38;5;241m.\u001b[39msqueeze(data_images);\n\u001b[1;32m     34\u001b[0m \u001b[38;5;28mprint\u001b[39m(data_images\u001b[38;5;241m.\u001b[39mshape)\n",
      "File \u001b[0;32m~/NN_security/data_bank/Data_loader_existing.py:44\u001b[0m, in \u001b[0;36mData_loader_existing.load_data\u001b[0;34m(self)\u001b[0m\n\u001b[1;32m     42\u001b[0m \u001b[38;5;28;01mdef\u001b[39;00m \u001b[38;5;21mload_data\u001b[39m(\u001b[38;5;28mself\u001b[39m):\n\u001b[0;32m---> 44\u001b[0m     data, label, diff \u001b[38;5;241m=\u001b[39m \u001b[38;5;28;43mself\u001b[39;49m\u001b[38;5;241;43m.\u001b[39;49m\u001b[43m_generate_set\u001b[49m\u001b[43m(\u001b[49m\u001b[43m)\u001b[49m\n\u001b[1;32m     46\u001b[0m     \u001b[38;5;28;01mreturn\u001b[39;00m data, label, diff\n",
      "File \u001b[0;32m~/NN_security/data_bank/Data_loader_existing.py:71\u001b[0m, in \u001b[0;36mData_loader_existing._generate_set\u001b[0;34m(self, shuffle)\u001b[0m\n\u001b[1;32m     68\u001b[0m labels_link \u001b[38;5;241m=\u001b[39m labels \u001b[38;5;241m+\u001b[39m \u001b[38;5;28mstr\u001b[39m(model) \u001b[38;5;241m+\u001b[39m \u001b[38;5;124m\"\u001b[39m\u001b[38;5;124m.npy\u001b[39m\u001b[38;5;124m\"\u001b[39m\n\u001b[1;32m     69\u001b[0m diff_link \u001b[38;5;241m=\u001b[39m diff \u001b[38;5;241m+\u001b[39m \u001b[38;5;28mstr\u001b[39m(model) \u001b[38;5;241m+\u001b[39m \u001b[38;5;124m\"\u001b[39m\u001b[38;5;124m.npy\u001b[39m\u001b[38;5;124m\"\u001b[39m\n\u001b[0;32m---> 71\u001b[0m data \u001b[38;5;241m=\u001b[39m \u001b[43mnp\u001b[49m\u001b[38;5;241;43m.\u001b[39;49m\u001b[43mload\u001b[49m\u001b[43m(\u001b[49m\u001b[43mimage_link\u001b[49m\u001b[43m)\u001b[49m\n\u001b[1;32m     72\u001b[0m labels_data \u001b[38;5;241m=\u001b[39m np\u001b[38;5;241m.\u001b[39mload(labels_link)\n\u001b[1;32m     73\u001b[0m diff_data \u001b[38;5;241m=\u001b[39m np\u001b[38;5;241m.\u001b[39mload(diff_link)\n",
      "File \u001b[0;32m~/miniconda3/envs/shades_experiments/lib/python3.8/site-packages/numpy/lib/npyio.py:405\u001b[0m, in \u001b[0;36mload\u001b[0;34m(file, mmap_mode, allow_pickle, fix_imports, encoding, max_header_size)\u001b[0m\n\u001b[1;32m    403\u001b[0m     own_fid \u001b[38;5;241m=\u001b[39m \u001b[38;5;28;01mFalse\u001b[39;00m\n\u001b[1;32m    404\u001b[0m \u001b[38;5;28;01melse\u001b[39;00m:\n\u001b[0;32m--> 405\u001b[0m     fid \u001b[38;5;241m=\u001b[39m stack\u001b[38;5;241m.\u001b[39menter_context(\u001b[38;5;28;43mopen\u001b[39;49m\u001b[43m(\u001b[49m\u001b[43mos_fspath\u001b[49m\u001b[43m(\u001b[49m\u001b[43mfile\u001b[49m\u001b[43m)\u001b[49m\u001b[43m,\u001b[49m\u001b[43m \u001b[49m\u001b[38;5;124;43m\"\u001b[39;49m\u001b[38;5;124;43mrb\u001b[39;49m\u001b[38;5;124;43m\"\u001b[39;49m\u001b[43m)\u001b[49m)\n\u001b[1;32m    406\u001b[0m     own_fid \u001b[38;5;241m=\u001b[39m \u001b[38;5;28;01mTrue\u001b[39;00m\n\u001b[1;32m    408\u001b[0m \u001b[38;5;66;03m# Code to distinguish from NumPy binary files and pickles.\u001b[39;00m\n",
      "\u001b[0;31mFileNotFoundError\u001b[0m: [Errno 2] No such file or directory: 'data/shades_data/t0_images1.npy'"
     ]
    }
   ],
   "source": [
    "\n",
    "tf.compat.v1.logging.set_verbosity(tf.compat.v1.logging.ERROR)\n",
    "plt.rcParams[\"figure.figsize\"]=20,20\n",
    "\n",
    "grid_x = 4\n",
    "grid_y = 4 \n",
    "shuffle = True\n",
    "data_size = grid_x*grid_y\n",
    "data_generate_size = 60\n",
    "\n",
    "if not shuffle:\n",
    "    perm_order = np.arange(data_size);\n",
    "else:\n",
    "    perm_order = np.random.permutation(data_size);\n",
    "\n",
    "configfile = 'config_files/config_visualise.yml'\n",
    "with open(configfile) as ymlfile:\n",
    "    cgf = yaml.load(ymlfile, Loader=yaml.SafeLoader);\n",
    "\n",
    "data_name = cgf['data_name'];\n",
    "data_arguments = cgf['data_arguments'];\n",
    "\n",
    "#data_arguments = {'number_of_samples': data_generate_size,\n",
    "#                  'grid_size': 64,\n",
    "#                  'side_length': 4,\n",
    "#                  'shade_contrast': 0.5,}\n",
    "\n",
    "\n",
    "\n",
    "\n",
    "data_loader = data_selector(data_name, data_arguments)\n",
    "print(data_loader)\n",
    "data_images, data_labels, data_diff = data_loader.load_data();\n",
    "data_images = np.squeeze(data_images);\n",
    "print(data_images.shape)\n",
    "print(data_labels.shape)\n",
    "plt.figure(); \n",
    "for i in range(data_size):\n",
    "    idx = perm_order[i];\n",
    "    \n",
    "    plt.subplot(grid_y, grid_x, i+1);\n",
    "    plt.matshow(data_images[idx], cmap='gray', fignum=False);\n",
    "    plt.axis('off')\n",
    "    plt.title('Label: {}, diff: {:f}'.format(int(data_labels[idx]), 100*float(data_diff[idx])));\n",
    "\n",
    "plt.show();\n",
    "\n"
   ]
  },
  {
   "cell_type": "code",
   "execution_count": null,
   "metadata": {},
   "outputs": [],
   "source": []
  }
 ],
 "metadata": {
  "kernelspec": {
   "display_name": "Python 3",
   "language": "python",
   "name": "python3"
  },
  "language_info": {
   "codemirror_mode": {
    "name": "ipython",
    "version": 3
   },
   "file_extension": ".py",
   "mimetype": "text/x-python",
   "name": "python",
   "nbconvert_exporter": "python",
   "pygments_lexer": "ipython3",
   "version": "3.8.15"
  }
 },
 "nbformat": 4,
 "nbformat_minor": 4
}
